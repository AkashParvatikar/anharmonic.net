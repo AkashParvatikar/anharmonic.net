{
 "cells": [
  {
   "cell_type": "code",
   "execution_count": 1,
   "metadata": {
    "collapsed": true
   },
   "outputs": [],
   "source": [
    "import matplotlib.pylab as plt\n",
    "import numpy as np\n",
    "import MDAnalysis as mdanal\n",
    "%matplotlib inline"
   ]
  },
  {
   "cell_type": "code",
   "execution_count": 2,
   "metadata": {
    "collapsed": true
   },
   "outputs": [],
   "source": [
    "def getCoordinates(pdbFileName, trjFileName):\n",
    "    u = mdanal.Universe(pdbFileName, trjFileName, permissive=False);\n",
    "    frames = [];\n",
    "    Ca = u.select_atoms('name CA');\n",
    "    for ts in u.trajectory:\n",
    "        frames.append(Ca.positions.T);\n",
    "    return np.array(frames);"
   ]
  },
  {
   "cell_type": "code",
   "execution_count": 3,
   "metadata": {
    "collapsed": true
   },
   "outputs": [],
   "source": [
    "import os\n",
    "indir = '/Volumes/LaCie/DESRES-Trajectory-bpti-protein/bpti-protein/'\n",
    "topfile = '/Users/fxp/BPTI-Analysis/bpti-protein.pdb'\n",
    "traj_list = []\n",
    "for filename in os.listdir(indir):\n",
    "    if filename.endswith('.dcd'):\n",
    "        traj_list.append(os.path.join(indir,filename))"
   ]
  },
  {
   "cell_type": "code",
   "execution_count": 4,
   "metadata": {
    "collapsed": true
   },
   "outputs": [],
   "source": [
    "plt.style.use('ggplot')"
   ]
  },
  {
   "cell_type": "code",
   "execution_count": 5,
   "metadata": {
    "collapsed": true
   },
   "outputs": [],
   "source": [
    "coords = []\n",
    "for trj in traj_list:\n",
    "    coords.append(getCoordinates(topfile, trj))\n",
    "coords = np.vstack(coords)"
   ]
  },
  {
   "cell_type": "code",
   "execution_count": 6,
   "metadata": {
    "collapsed": true
   },
   "outputs": [],
   "source": [
    "coords = coords[::10, :, :];"
   ]
  },
  {
   "cell_type": "code",
   "execution_count": 7,
   "metadata": {
    "collapsed": false
   },
   "outputs": [
    {
     "name": "stderr",
     "output_type": "stream",
     "text": [
      "No handlers could be found for logger \"main.IterativeMeansAlign\"\n"
     ]
    }
   ],
   "source": [
    "from anca import IterativeMeansAlign\n",
    "iterAlign = IterativeMeansAlign.IterativeMeansAlign();\n",
    "[itr, avgCoordsAll, eRMSDAll, newCoordsAll] = iterAlign.iterativeMeans(coords, 0.001, 5);"
   ]
  },
  {
   "cell_type": "code",
   "execution_count": 8,
   "metadata": {
    "collapsed": false
   },
   "outputs": [
    {
     "name": "stdout",
     "output_type": "stream",
     "text": [
      "(174, 412497)\n"
     ]
    }
   ],
   "source": [
    "coordsAll = np.reshape(newCoordsAll, (len(newCoordsAll), 3*58)).T; \n",
    "avgCoordsAll = np.mean(coordsAll, 1); #print avgCoords;\n",
    "tmpAll = np.reshape(np.tile(avgCoordsAll, 412497), (412497,3*58)).T; \n",
    "caDevsMDall = coordsAll - tmpAll;\n",
    "print caDevsMDall.shape;"
   ]
  },
  {
   "cell_type": "code",
   "execution_count": 9,
   "metadata": {
    "collapsed": true
   },
   "outputs": [],
   "source": [
    "import scipy.stats\n",
    " \n",
    "def getSmoothingWeights(dt, windowsize, halflife):\n",
    "    tau = (halflife/dt)/ np.log(2) # half-life = 5000ns and time between 2 consecutive time frame = 25ns\n",
    "    alpha = 1 - np.exp(-1/tau)\n",
    "    s = 0;\n",
    "    wt = np.zeros((windowsize,1));\n",
    "    for i in range (0,windowsize):\n",
    "        wt[i] = (alpha * np.exp(-(windowsize-i)/tau))/0.96499303\n",
    "        s = s + wt[i];\n",
    "    return wt;\n",
    " \n",
    "def getInstantaenousKurtosis(caDevsMDall, dt, windowsize, halflife, perRes=True, smooth=False):\n",
    "    kresVals = np.zeros((caDevsMDall.shape[0], caDevsMDall.shape[1]));\n",
    "    kvals = np.zeros((caDevsMDall.shape[1],1));\n",
    "   \n",
    "    for i in range(0, caDevsMDall.shape[1]):\n",
    "        cc = caDevsMDall[:, i:i+windowsize];\n",
    "        kresVals[:, i] = scipy.stats.kurtosis(cc, axis=1, fisher=False);\n",
    "        kvals[i] = scipy.stats.kurtosis(cc, axis=1, fisher=False).mean();\n",
    "        \n",
    "    c = np.zeros(caDevsMDall.shape[1]-windowsize);\n",
    "    if not perRes and smooth:\n",
    "        val = np.zeros((windowsize,1));\n",
    "        wt = getSmoothingWeights(dt, windowsize, halflife);\n",
    "        for i in range (0, caDevsMDall.shape[1]-windowsize):\n",
    "            a = wt[0:windowsize];\n",
    "            a = a.reshape(windowsize);\n",
    "            b = kvals[i + windowsize:i:-1];\n",
    "            b = b.reshape(windowsize);\n",
    "            c[i] = np.dot(a,b);\n",
    "        return c, kvals;\n",
    "    elif perRes:\n",
    "        return kresVals, kvals;\n",
    "    else:\n",
    "        return kvals;"
   ]
  },
  {
   "cell_type": "code",
   "execution_count": 10,
   "metadata": {
    "collapsed": false
   },
   "outputs": [
    {
     "data": {
      "image/png": "[encoded data removed]",
      "text/plain": [
       "<matplotlib.figure.Figure at 0x109b63d10>"
      ]
     },
     "metadata": {},
     "output_type": "display_data"
    }
   ],
   "source": [
    "wt = getSmoothingWeights(dt=25, windowsize=500,halflife=5000)\n",
    "plt.title('FILTER')    \n",
    "plt.plot(wt, 'k-');\n",
    "plt.show();"
   ]
  },
  {
   "cell_type": "code",
   "execution_count": 11,
   "metadata": {
    "collapsed": false
   },
   "outputs": [
    {
     "data": {
      "image/png": "[encoded data removed]",
      "text/plain": [
       "<matplotlib.figure.Figure at 0x10a2bab50>"
      ]
     },
     "metadata": {},
     "output_type": "display_data"
    }
   ],
   "source": [
    "[c, kvals] = getInstantaenousKurtosis(caDevsMDall=caDevsMDall, dt=25, windowsize=500, halflife=5000, perRes=False, smooth=True)\n",
    "\n",
    "plt.title('Quantifying anharmonicity per conformer')    \n",
    "plt.plot(kvals, 'k-'); \n",
    "plt.plot(c, 'r-');\n",
    "plt.xlabel('Time Frame', fontsize=20);\n",
    "plt.ylabel('Kurtosis ($\\kappa$)', fontsize=20);\n",
    "plt.show();"
   ]
  },
  {
   "cell_type": "code",
   "execution_count": 12,
   "metadata": {
    "collapsed": false
   },
   "outputs": [
    {
     "name": "stdout",
     "output_type": "stream",
     "text": [
      "     median\n",
      "0  4.742007\n"
     ]
    }
   ],
   "source": [
    "import numpy as np\n",
    "import pandas as pd\n",
    "rd = pd.DataFrame(kvals)\n",
    "median = pd.DataFrame({'median':rd.median()})\n",
    "\n",
    "threshold = 1.5\n",
    "val = median + threshold\n",
    "print val"
   ]
  },
  {
   "cell_type": "code",
   "execution_count": 13,
   "metadata": {
    "collapsed": true
   },
   "outputs": [],
   "source": [
    "hkurt = np.where(kvals>4.742007)[0]\n",
    "np.savetxt('high-kurtosis.txt',hkurt,delimiter=',')"
   ]
  },
  {
   "cell_type": "code",
   "execution_count": 14,
   "metadata": {
    "collapsed": true
   },
   "outputs": [],
   "source": [
    "# function to get consecutive numbers as a separate list\n",
    "\n",
    "def events(vals, step = 1):\n",
    "    \n",
    "    run = []\n",
    "    result = [run]\n",
    "    expect = None\n",
    "    for v in vals:\n",
    "        if(v == expect) or (expect is None):\n",
    "            run.append(v)\n",
    "        else:\n",
    "            run = [v]\n",
    "            result.append(run)\n",
    "        expect = v + step\n",
    "    \n",
    "    return result"
   ]
  },
  {
   "cell_type": "code",
   "execution_count": 15,
   "metadata": {
    "collapsed": true
   },
   "outputs": [],
   "source": [
    "# array has list of events with window size = 500\n",
    "array = events(hkurt)\n",
    "array = np.asarray(array)"
   ]
  },
  {
   "cell_type": "code",
   "execution_count": null,
   "metadata": {
    "collapsed": true
   },
   "outputs": [],
   "source": [
    "u = mdanal.Universe(topfile, traj_list)\n",
    "allatoms = u.select_atoms('all');"
   ]
  },
  {
   "cell_type": "code",
   "execution_count": 51,
   "metadata": {
    "collapsed": true
   },
   "outputs": [],
   "source": [
    "# used to track the pre-event motions of the conformers\n",
    "arraysub = []\n",
    "prev_frame = 50\n",
    "for i in range (0, array.shape[0]):\n",
    "    arraysub[i] = np.array(array[4])\n",
    "    arraysub[i] = arraysub[i] - prev_frame\n",
    "    with mdanal.Writer(\"pre-event\"+str(i)+\".pdb\", allatoms.n_atoms) as W:\n",
    "    for ts in u.trajectory[np.asarray(arraysub[i])]:\n",
    "        W.write(allatoms);"
   ]
  },
  {
   "cell_type": "code",
   "execution_count": 52,
   "metadata": {
    "collapsed": false
   },
   "outputs": [],
   "source": [
    "\n"
   ]
  }
 ],
 "metadata": {
  "anaconda-cloud": {},
  "kernelspec": {
   "display_name": "Python [conda root]",
   "language": "python",
   "name": "conda-root-py"
  },
  "language_info": {
   "codemirror_mode": {
    "name": "ipython",
    "version": 2
   },
   "file_extension": ".py",
   "mimetype": "text/x-python",
   "name": "python",
   "nbconvert_exporter": "python",
   "pygments_lexer": "ipython2",
   "version": "2.7.10"
  }
 },
 "nbformat": 4,
 "nbformat_minor": 2
}
