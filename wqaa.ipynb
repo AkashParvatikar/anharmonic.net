{
 "metadata": {
  "name": "",
  "signature": "sha256:085a38e12d9ed8999524ef7bcf54f31e487a7fe3015474c7b578fe8655ac3a0d"
 },
 "nbformat": 3,
 "nbformat_minor": 0,
 "worksheets": [
  {
   "cells": [
    {
     "cell_type": "markdown",
     "metadata": {},
     "source": [
      "###WQAA: Wide Quasi-Anharmonic Analysis\n",
      "Please clone the [git repository](https://github.com/gvacaliuc/wqaa.git) for wqaa.\n",
      "\n",
      "WQAA reads multiple protein trajectories using MDAnalysis and computes the $\\Phi$ and $\\Psi$ dihedral angles progression through the simulation. See code snippet below:"
     ]
    },
    {
     "cell_type": "raw",
     "metadata": {},
     "source": [
      "u = MDAnalysis.Universe(\"lacie-kbhdata/1KBHww.pdb\", \"lacie-kbhdata/1KBH_%03i_50k.dcd\" %(i+1), permissive=False)"
     ]
    },
    {
     "cell_type": "markdown",
     "metadata": {},
     "source": [
      "This is an example that creates an MDAnalysis 'Universe' from a '.pdb' and a '.dcd' file. While this is one line, it is called from a for-loop, to load each trajectory you have stored.  However, you must make sure that the path to the file is correct and the name is formatted correctly. Run the following example to see python string formatting in action."
     ]
    },
    {
     "cell_type": "code",
     "collapsed": false,
     "input": [
      "for i in range(5):\n",
      "    print \"Number: %03i\" %(i+1)"
     ],
     "language": "python",
     "metadata": {},
     "outputs": [],
     "prompt_number": 0
    },
    {
     "cell_type": "markdown",
     "metadata": {},
     "source": [
      "This allows you to format your input strings correctly, and must be done by you before processing the data.\n",
      "\n",
      "Inside the for-loop mentioned above, dihedral data for each trajectory is created, formatted, and concatenated to an array stored on disk.  This technique allows an arbitrary amount of trajectories to be processed without the worry of memory errors.  See the following code snippets:"
     ]
    },
    {
     "cell_type": "raw",
     "metadata": {},
     "source": [
      "for i in range(num_traj):\n",
      "\t\t\n",
      "\t#\t!Edit to your trajectory format!\n",
      "\ttry:\n",
      "\t\tu = MDAnalysis.Universe(\"lacie-kbhdata/1KBHww.pdb\", \"lacie-kbhdata/1KBH_%03i_50k.dcd\" %(i+1), permissive=False)\n",
      "\texcept:\n",
      "\t\tprint \"You must edit \\'dQAA.py\\' to fit your trajectory format!\"\n",
      "\t\texit()"
     ]
    },
    {
     "cell_type": "markdown",
     "metadata": {},
     "source": [
      "The above code checks to make sure you have edited the code to accept your string format.  After asserting that a universe can be made, WQAA selects the backbone atoms from the current trajectory:"
     ]
    },
    {
     "cell_type": "raw",
     "metadata": {},
     "source": [
      "atom = u.selectAtoms('backbone')"
     ]
    },
    {
     "cell_type": "markdown",
     "metadata": {},
     "source": [
      "Initializes a Collection to store Phi and Psi data in:"
     ]
    },
    {
     "cell_type": "raw",
     "metadata": {},
     "source": [
      "phidat = TimeseriesCollection()\n",
      "psidat = TimeseriesCollection()"
     ]
    },
    {
     "cell_type": "markdown",
     "metadata": {},
     "source": [
      "Loops through residues to collect all dihedral data:"
     ]
    },
    {
     "cell_type": "raw",
     "metadata": {},
     "source": [
      "#\tAdds each (wanted) residues phi/psi angles to their respective timeseries collections.\n",
      "\n",
      "print '---Processing Trajectory %i---' %(i+1)\n",
      "numres = 0\n",
      "trajlen = len(u.trajectory)\n",
      "\n",
      "#\tTailor following for-loop to iterate through your residues of interest\n",
      "for res in range(1,atom.numberOfResidues()-1):\n",
      "\tprint res\n",
      "\t#\tselection of the atoms involved for the phi for resid '%d' %res\n",
      "\tphi_sel = phisel(u.residues[res])\n",
      "\t#\tselection of the atoms involved for the psi for resid '%d' %res\n",
      "\tpsi_sel = psisel(u.residues[res])\n",
      "\tphidat.addTimeseries(Timeseries.Dihedral(phi_sel))\n",
      "\tpsidat.addTimeseries(Timeseries.Dihedral(psi_sel))\n",
      "\tnumres = numres + 1\n",
      "\n",
      "#\tComputes along 10K timesteps\n",
      "phidat.compute(u.trajectory)\n",
      "psidat.compute(u.trajectory)"
     ]
    },
    {
     "cell_type": "markdown",
     "metadata": {},
     "source": [
      "It is important to note that the for-loop above is iterating through the maximum amount of residues it can.  The 'Phi' angle bases itself off of 4 atoms: $C_{n-1}$, $N_{n}$, $C{\\alpha}_{n}$, and $C_{n}$. As a result, you cannot find the phi angle for the first residue becuase there is no $0^{th}$ residue.  Similar goes for the 'Psi' angle.  Based off of 4 atoms: $N_{n}$, $C{\\alpha}_{n}$, $C_{n}$, and $N_{n+1}$. So the last residue does not have a psi angle calculation.  However it is important to tailor this loop to only include your residues of interest.\n",
      "\n",
      "After computing the $phidat$ and $psidat$ arrays, the sines and cosines are stored in a large array:"
     ]
    },
    {
     "cell_type": "raw",
     "metadata": {},
     "source": [
      "dihedral_dat = np.zeros((numres*4,trajlen))\n",
      "#\tData stored as | sin(phi) | cos(phi) | sin(psi) | cos(psi) |\n",
      "dihedral_dat[0::4,:] = np.sin(phidat)\n",
      "dihedral_dat[1::4,:] = np.cos(phidat)\n",
      "dihedral_dat[2::4,:] = np.sin(psidat)\n",
      "dihedral_dat[3::4,:] = np.cos(psidat)"
     ]
    },
    {
     "cell_type": "markdown",
     "metadata": {},
     "source": [
      "Then the array $dihedral\\_dat$ is concatenated into memory mapped array:"
     ]
    },
    {
     "cell_type": "raw",
     "metadata": {},
     "source": [
      "if i == 0:\n",
      "\tfulldat = np.memmap('dihedral_data.array', dtype='float64', mode='w+', shape=(numres*4, trajlen))\n",
      "\tfulldat[:,:] = dihedral_dat\n",
      "else:\n",
      "\tfulldat = mmap_concat(fulldat, dihedral_dat)"
     ]
    },
    {
     "cell_type": "markdown",
     "metadata": {},
     "source": [
      "One should note that if it is the first loop, it creates a memory mapped array, otherwise it concatenates the current $dihedral\\_dat$ array.\n",
      "\n",
      "Python's 'memmapped' arrays are accessed and used the same as that of an array in RAM, so we pass the $fulldat$ array to jade to reduce the dimensionality:"
     ]
    },
    {
     "cell_type": "raw",
     "metadata": {},
     "source": [
      "lastEig = subspace #\tnumber of eigen-modes to be considered\n",
      "icajade = jadeR(fulldat, lastEig)"
     ]
    },
    {
     "cell_type": "markdown",
     "metadata": {},
     "source": [
      "Here subspace is equal to the output dimension you are requesting of jade, but more technically the number of Principal Components you would like jade to consider.\n",
      "\n",
      "The array $icajade$ now houses the $m$-most significant principal components!  This array is then multiplied by the data array to perform the change of basis requried to reduce the dimensionality."
     ]
    },
    {
     "cell_type": "raw",
     "metadata": {},
     "source": [
      "icacoffs = icajade.dot(fulldat)"
     ]
    }
   ],
   "metadata": {}
  }
 ]
}