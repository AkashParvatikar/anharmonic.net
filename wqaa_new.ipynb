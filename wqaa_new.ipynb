{
 "cells": [
  {
   "cell_type": "markdown",
   "metadata": {},
   "source": [
    "# wQAA\n",
    "\n",
    "Molecular Dynamics allows us to accurately simulate protein folding, but we are left cursed with highly dimensional data that spans over multiple trajectories and occupies several gigabytes.  The anharmonicity of proteins allows us to intuitively assume that the most probable functional ensembles lie in the skewed data.  Thus, wQAA develops a new basis for our protein data, in which the anharmonic groupings are as separated as possible.  It employs [JADE](http://perso.telecom-paristech.fr/~cardoso/guidesepsou.html), a type of Independent Component Analysis that maximizes the 4^th order statistic, kurtosis."
   ]
  },
  {
   "cell_type": "markdown",
   "metadata": {},
   "source": [
    "To begin, we set our data folders, and construct a configuration dictionary:"
   ]
  },
  {
   "cell_type": "code",
   "execution_count": 3,
   "metadata": {
    "collapsed": false
   },
   "outputs": [],
   "source": [
    "import os\n",
    "datafolder = os.path.join('drivehivp', 'v32', 'hivp');\n",
    "pathtodata = os.path.join('~/Documents/here2016', datafolder);\n",
    "\n",
    "config = {\n",
    "    'analysis' : 'coordinate',\n",
    "    'pdbfile'  : os.path.join(pathtodata, 'hivp.pdb'),\n",
    "    'dcdform'  : [os.path.join(pathtodata, 'hivp_*.dcd'), '1-5'],\n",
    "    'pname'    : 'hivp',\n",
    "    'startRes' : 1,\n",
    "    'endRes'   : 198,\n",
    "    'icaDim'   : 60,\n",
    "    'sliceVal' : 10,\n",
    "    'saveDir'  : 'savefiles/',\n",
    "    'figDir'   : 'savefiles/figures',\n",
    "    'logfile'  : 'savefiles/log_wqaa.txt',\n",
    "        };"
   ]
  },
  {
   "cell_type": "code",
   "execution_count": null,
   "metadata": {
    "collapsed": true
   },
   "outputs": [],
   "source": []
  }
 ],
 "metadata": {
  "kernelspec": {
   "display_name": "Python 2",
   "language": "python",
   "name": "python2"
  },
  "language_info": {
   "codemirror_mode": {
    "name": "ipython",
    "version": 2
   },
   "file_extension": ".py",
   "mimetype": "text/x-python",
   "name": "python",
   "nbconvert_exporter": "python",
   "pygments_lexer": "ipython2",
   "version": "2.7.5"
  }
 },
 "nbformat": 4,
 "nbformat_minor": 0
}
